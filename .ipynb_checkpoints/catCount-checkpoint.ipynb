{
 "cells": [
  {
   "cell_type": "code",
   "execution_count": 1,
   "metadata": {},
   "outputs": [],
   "source": [
    "import sys\n",
    "from selenium import webdriver\n",
    "from bs4 import BeautifulSoup\n",
    "import pandas as pd"
   ]
  },
  {
   "cell_type": "code",
   "execution_count": 13,
   "metadata": {},
   "outputs": [],
   "source": [
    "driver = webdriver.Chrome(\"/usr/local/bin/chromedriver\")\n",
    "driver.get(\"https://fantasy.espn.com/basketball/league/schedule?leagueId=2173941\")"
   ]
  },
  {
   "cell_type": "code",
   "execution_count": 46,
   "metadata": {},
   "outputs": [],
   "source": [
    "soup = BeautifulSoup(driver.page_source)\n",
    "#owners = soup.find_all(\"div\"), {\"class\": [\"jsx-232451815 team-owner-col\",\"jsx-232451815 team-owner-col fw-bold\"]})\n",
    "owners = soup.find_all(\"span\", {\"class\": [\"teamName truncate\", \"teamName truncate fw-bold\"]})\n",
    "scores = soup.find_all(\"span\", {\"class\": \"link\"})"
   ]
  },
  {
   "cell_type": "code",
   "execution_count": 47,
   "metadata": {},
   "outputs": [],
   "source": [
    "class TeamRecord:\n",
    "    def __init__(self,name):\n",
    "        self.name = name\n",
    "        self.wins = 0\n",
    "        self.losses = 0\n",
    "        self.ties = 0\n",
    "    \n",
    "    def update(self,score):\n",
    "        self.wins += int(score[0])\n",
    "        self.losses += int(score[2])\n",
    "        self.ties += int(score[4])\n",
    "        \n",
    "    def __str__(self):\n",
    "        return f\"{self.wins}-{self.losses}-{self.ties}\""
   ]
  },
  {
   "cell_type": "code",
   "execution_count": 48,
   "metadata": {},
   "outputs": [],
   "source": [
    "records = {}\n",
    "for owner in owners:\n",
    "    records[owner.contents[0]] = TeamRecord(owner.contents[0])\n",
    "\n",
    "for scoreNum, match in enumerate(scores[:-10]):\n",
    "    records[owners[scoreNum].contents[0]].update((match.contents[0]))"
   ]
  },
  {
   "cell_type": "code",
   "execution_count": 49,
   "metadata": {},
   "outputs": [
    {
     "name": "stdout",
     "output_type": "stream",
     "text": [
      "Team Sleazy831: 101-50-2\n",
      "Gilgeous Island: 93-59-1\n",
      "Big Balla: 90-62-1\n",
      "Team Mendoza: 83-70-0\n",
      "Shooters  Shoot: 74-78-1\n",
      "Kawhi's  Laugh: 71-77-5\n",
      "Team Heat : 71-77-5\n",
      "Team Flores: 67-82-4\n",
      "Below  Freezing 🥶: 57-95-1\n",
      "McBuckets JoJo: 45-102-6\n"
     ]
    }
   ],
   "source": [
    "import operator\n",
    "standings = sorted(records.values(), key=operator.attrgetter('wins'), reverse=True) \n",
    "for i in standings:\n",
    "    print(f'{i.name}: {i}')"
   ]
  },
  {
   "cell_type": "code",
   "execution_count": null,
   "metadata": {},
   "outputs": [],
   "source": []
  }
 ],
 "metadata": {
  "kernelspec": {
   "display_name": "Python 3",
   "language": "python",
   "name": "python3"
  },
  "language_info": {
   "codemirror_mode": {
    "name": "ipython",
    "version": 3
   },
   "file_extension": ".py",
   "mimetype": "text/x-python",
   "name": "python",
   "nbconvert_exporter": "python",
   "pygments_lexer": "ipython3",
   "version": "3.6.1"
  }
 },
 "nbformat": 4,
 "nbformat_minor": 4
}
